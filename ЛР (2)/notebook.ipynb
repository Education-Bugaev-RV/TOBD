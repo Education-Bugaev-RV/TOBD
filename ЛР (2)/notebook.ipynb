{
 "cells": [
  {
   "cell_type": "markdown",
   "id": "51573982",
   "metadata": {},
   "source": [
    "# Выполнение ЛР №2:"
   ]
  },
  {
   "cell_type": "markdown",
   "id": "8ab95d01",
   "metadata": {},
   "source": [
    "## Подключение библиотек"
   ]
  },
  {
   "cell_type": "code",
   "execution_count": 3,
   "id": "f1fe2384",
   "metadata": {},
   "outputs": [],
   "source": [
    "import pandas       as pd\n",
    "import matplotlib   as mpl\n",
    "import plotly       as plt\n",
    "import seaborn      as sbn"
   ]
  },
  {
   "cell_type": "markdown",
   "id": "9e55a90a",
   "metadata": {},
   "source": [
    "## Настройка библиотек"
   ]
  },
  {
   "cell_type": "code",
   "execution_count": null,
   "id": "26f1e159",
   "metadata": {},
   "outputs": [],
   "source": [
    "pd.set_option('display.max_rows', None)"
   ]
  },
  {
   "cell_type": "markdown",
   "id": "0198c1a9",
   "metadata": {},
   "source": [
    "## 1. Matplotlib:"
   ]
  },
  {
   "cell_type": "markdown",
   "id": "c9663cbe",
   "metadata": {},
   "source": [
    "### Задание\n",
    "\n",
    "* Получить  горизонтальную  столбиковую \n",
    "диаграмму для получения числа мужчин и женщин\n",
    "\n",
    "### Решение"
   ]
  },
  {
   "cell_type": "code",
   "execution_count": null,
   "id": "565d4469",
   "metadata": {},
   "outputs": [],
   "source": []
  },
  {
   "cell_type": "markdown",
   "id": "531dfe85",
   "metadata": {},
   "source": [
    "### Ответ"
   ]
  },
  {
   "cell_type": "code",
   "execution_count": null,
   "id": "97d86433",
   "metadata": {},
   "outputs": [],
   "source": []
  },
  {
   "cell_type": "markdown",
   "id": "29f4be9b",
   "metadata": {},
   "source": [
    "## 2. Plot.ly:"
   ]
  },
  {
   "cell_type": "markdown",
   "id": "0cf694da",
   "metadata": {},
   "source": [
    "### Задание\n",
    "\n",
    "* Показать связь между годовым доходом, возрастом \n",
    "и полом с помощью графика корреляции\n",
    "\n",
    "### Решение"
   ]
  },
  {
   "cell_type": "code",
   "execution_count": null,
   "id": "dfbd9188",
   "metadata": {},
   "outputs": [],
   "source": []
  },
  {
   "cell_type": "markdown",
   "id": "fdec67bd",
   "metadata": {},
   "source": [
    "### Ответ"
   ]
  },
  {
   "cell_type": "code",
   "execution_count": null,
   "id": "12cd8a79",
   "metadata": {},
   "outputs": [],
   "source": []
  },
  {
   "cell_type": "markdown",
   "id": "e55fa196",
   "metadata": {},
   "source": [
    "## 3. Seaborn:"
   ]
  },
  {
   "cell_type": "markdown",
   "id": "ecaf6561",
   "metadata": {},
   "source": [
    "### Задание\n",
    "\n",
    "* Показать  связь  между  возрастом,  годовым \n",
    "доходом, и скорингом расходов с помощью Pairplot\n",
    "\n",
    "### Решение"
   ]
  },
  {
   "cell_type": "code",
   "execution_count": null,
   "id": "b96db5c0",
   "metadata": {},
   "outputs": [],
   "source": []
  },
  {
   "cell_type": "markdown",
   "id": "2b4811ff",
   "metadata": {},
   "source": [
    "### Ответ"
   ]
  },
  {
   "cell_type": "code",
   "execution_count": null,
   "id": "f71b3ea3",
   "metadata": {},
   "outputs": [],
   "source": []
  }
 ],
 "metadata": {
  "kernelspec": {
   "display_name": ".venv",
   "language": "python",
   "name": "python3"
  },
  "language_info": {
   "codemirror_mode": {
    "name": "ipython",
    "version": 3
   },
   "file_extension": ".py",
   "mimetype": "text/x-python",
   "name": "python",
   "nbconvert_exporter": "python",
   "pygments_lexer": "ipython3",
   "version": "3.12.7"
  }
 },
 "nbformat": 4,
 "nbformat_minor": 5
}
