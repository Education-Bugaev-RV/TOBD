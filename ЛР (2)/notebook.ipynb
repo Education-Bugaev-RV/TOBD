{
 "cells": [
  {
   "cell_type": "markdown",
   "id": "51573982",
   "metadata": {},
   "source": [
    "# Выполнение ЛР №2:"
   ]
  },
  {
   "cell_type": "markdown",
   "id": "8ab95d01",
   "metadata": {},
   "source": [
    "## Подключение библиотек"
   ]
  },
  {
   "cell_type": "code",
   "execution_count": 1,
   "id": "f1fe2384",
   "metadata": {},
   "outputs": [],
   "source": [
    "import pandas               as pd\n",
    "import numpy                as np\n",
    "\n",
    "import matplotlib           as mpl\n",
    "import matplotlib.pyplot    as mpl_plt\n",
    "from   matplotlib.figure import Figure\n",
    "\n",
    "import plotly               as plt\n",
    "import plotly.graph_objs    as go\n",
    "\n",
    "import seaborn              as sbn\n"
   ]
  },
  {
   "cell_type": "markdown",
   "id": "9e55a90a",
   "metadata": {},
   "source": [
    "## Настройка библиотек"
   ]
  },
  {
   "cell_type": "code",
   "execution_count": 2,
   "id": "26f1e159",
   "metadata": {},
   "outputs": [],
   "source": [
    "mpl_plt.show()\n",
    "\n",
    "pd.set_option('display.max_rows', None)"
   ]
  },
  {
   "cell_type": "markdown",
   "id": "0198c1a9",
   "metadata": {},
   "source": [
    "## 1. Matplotlib:"
   ]
  },
  {
   "cell_type": "markdown",
   "id": "c9663cbe",
   "metadata": {},
   "source": [
    "### Задание\n",
    "\n",
    "* Получить  горизонтальную  столбиковую \n",
    "диаграмму для получения числа мужчин и женщин\n",
    "\n",
    "### Решение"
   ]
  },
  {
   "cell_type": "code",
   "execution_count": 3,
   "id": "565d4469",
   "metadata": {},
   "outputs": [
    {
     "data": {
      "text/html": [
       "<div>\n",
       "<style scoped>\n",
       "    .dataframe tbody tr th:only-of-type {\n",
       "        vertical-align: middle;\n",
       "    }\n",
       "\n",
       "    .dataframe tbody tr th {\n",
       "        vertical-align: top;\n",
       "    }\n",
       "\n",
       "    .dataframe thead th {\n",
       "        text-align: right;\n",
       "    }\n",
       "</style>\n",
       "<table border=\"1\" class=\"dataframe\">\n",
       "  <thead>\n",
       "    <tr style=\"text-align: right;\">\n",
       "      <th></th>\n",
       "      <th>CustomerID</th>\n",
       "      <th>Gender</th>\n",
       "      <th>Age</th>\n",
       "      <th>Annual Income (k$)</th>\n",
       "      <th>Spending Score (1-100)</th>\n",
       "    </tr>\n",
       "  </thead>\n",
       "  <tbody>\n",
       "    <tr>\n",
       "      <th>0</th>\n",
       "      <td>1</td>\n",
       "      <td>Male</td>\n",
       "      <td>19</td>\n",
       "      <td>15</td>\n",
       "      <td>39</td>\n",
       "    </tr>\n",
       "    <tr>\n",
       "      <th>1</th>\n",
       "      <td>2</td>\n",
       "      <td>Male</td>\n",
       "      <td>21</td>\n",
       "      <td>15</td>\n",
       "      <td>81</td>\n",
       "    </tr>\n",
       "    <tr>\n",
       "      <th>2</th>\n",
       "      <td>3</td>\n",
       "      <td>Female</td>\n",
       "      <td>20</td>\n",
       "      <td>16</td>\n",
       "      <td>6</td>\n",
       "    </tr>\n",
       "    <tr>\n",
       "      <th>3</th>\n",
       "      <td>4</td>\n",
       "      <td>Female</td>\n",
       "      <td>23</td>\n",
       "      <td>16</td>\n",
       "      <td>77</td>\n",
       "    </tr>\n",
       "    <tr>\n",
       "      <th>4</th>\n",
       "      <td>5</td>\n",
       "      <td>Female</td>\n",
       "      <td>31</td>\n",
       "      <td>17</td>\n",
       "      <td>40</td>\n",
       "    </tr>\n",
       "  </tbody>\n",
       "</table>\n",
       "</div>"
      ],
      "text/plain": [
       "   CustomerID  Gender  Age  Annual Income (k$)  Spending Score (1-100)\n",
       "0           1    Male   19                  15                      39\n",
       "1           2    Male   21                  15                      81\n",
       "2           3  Female   20                  16                       6\n",
       "3           4  Female   23                  16                      77\n",
       "4           5  Female   31                  17                      40"
      ]
     },
     "execution_count": 3,
     "metadata": {},
     "output_type": "execute_result"
    }
   ],
   "source": [
    "df_raw_csv = pd.read_csv('./Вариант 4/Mall_Customers.csv')\n",
    "df_raw_csv.head()"
   ]
  },
  {
   "cell_type": "code",
   "execution_count": 4,
   "id": "959bb35a",
   "metadata": {},
   "outputs": [],
   "source": [
    "gender_counts = df_raw_csv['Gender'].value_counts()\n",
    "\n",
    "# Строим горизонтальную столбиковую диаграмму\n",
    "fig = Figure(figsize=(8, 4))\n",
    "\n",
    "sub_plot = fig.add_subplot(1,1,1)\n",
    "\n",
    "sub_plot.set_title('Распределение по полу среди клиентов')\n",
    "sub_plot.xaxis.set_label_text(\"Возраст\")\n",
    "sub_plot.yaxis.set_label_text(\"Пол\")\n",
    "\n",
    "sub_plot.barh(gender_counts.index, gender_counts.values.tolist(), color=['lightpink', 'skyblue'])\n",
    "\n",
    "sub_plot.xaxis.minorticks_on()\n",
    "sub_plot.grid(axis='x')\n",
    "sub_plot.grid(axis='x', which='minor', linestyle=':', linewidth=0.5)"
   ]
  },
  {
   "cell_type": "markdown",
   "id": "471d6e30",
   "metadata": {},
   "source": [
    "### Визуализация"
   ]
  },
  {
   "cell_type": "code",
   "execution_count": 5,
   "id": "8c8cc4e6",
   "metadata": {},
   "outputs": [
    {
     "data": {
      "image/png": "[encoded data removed]",
      "text/plain": [
       "<Figure size 800x400 with 1 Axes>"
      ]
     },
     "execution_count": 5,
     "metadata": {},
     "output_type": "execute_result"
    }
   ],
   "source": [
    "fig"
   ]
  },
  {
   "cell_type": "code",
   "execution_count": 6,
   "id": "5b330078",
   "metadata": {},
   "outputs": [
    {
     "data": {
      "text/html": [
       "<div>\n",
       "<style scoped>\n",
       "    .dataframe tbody tr th:only-of-type {\n",
       "        vertical-align: middle;\n",
       "    }\n",
       "\n",
       "    .dataframe tbody tr th {\n",
       "        vertical-align: top;\n",
       "    }\n",
       "\n",
       "    .dataframe thead th {\n",
       "        text-align: right;\n",
       "    }\n",
       "</style>\n",
       "<table border=\"1\" class=\"dataframe\">\n",
       "  <thead>\n",
       "    <tr style=\"text-align: right;\">\n",
       "      <th></th>\n",
       "      <th>count</th>\n",
       "    </tr>\n",
       "    <tr>\n",
       "      <th>Gender</th>\n",
       "      <th></th>\n",
       "    </tr>\n",
       "  </thead>\n",
       "  <tbody>\n",
       "    <tr>\n",
       "      <th>Female</th>\n",
       "      <td>112</td>\n",
       "    </tr>\n",
       "    <tr>\n",
       "      <th>Male</th>\n",
       "      <td>88</td>\n",
       "    </tr>\n",
       "  </tbody>\n",
       "</table>\n",
       "</div>"
      ],
      "text/plain": [
       "        count\n",
       "Gender       \n",
       "Female    112\n",
       "Male       88"
      ]
     },
     "execution_count": 6,
     "metadata": {},
     "output_type": "execute_result"
    }
   ],
   "source": [
    "pd.DataFrame(gender_counts)"
   ]
  },
  {
   "cell_type": "markdown",
   "id": "f2f69a48",
   "metadata": {},
   "source": [
    "### Анализ\n",
    "\n",
    "На основании предоставленной визуализации можно сделать следующие выводы:\n",
    "\n",
    "1. Соотношение полов среди клиентов неравномерное:\n",
    "\n",
    "    * Женщины (Female) составляют большую часть клиентской базы. Их численность заметно выше, чем у мужчин.\n",
    "    * Мужчины (Male) представлены в меньшем количестве, хотя их доля тоже значительна.\n",
    "\n",
    "2. Абсолютные значения:\n",
    "\n",
    "    * Количество женщин слегка превышает 110 единиц.\n",
    "    * Количество мужчин находится примерно в диапазоне 85–90 единиц.\n",
    "\n",
    "3. Вывод:\n",
    "\n",
    "    * Женщины составляют доминирующую часть клиентской базы. Это важно учитывать при дальнейшем анализе поведения клиентов и планировании маркетинговых стратегий."
   ]
  },
  {
   "cell_type": "markdown",
   "id": "29f4be9b",
   "metadata": {},
   "source": [
    "## 2. Plot.ly:"
   ]
  },
  {
   "cell_type": "markdown",
   "id": "0cf694da",
   "metadata": {},
   "source": [
    "### Задание\n",
    "\n",
    "* Показать связь между годовым доходом, возрастом \n",
    "и полом с помощью графика корреляции\n",
    "\n",
    "### Решение"
   ]
  },
  {
   "cell_type": "code",
   "execution_count": 7,
   "id": "64c861b5",
   "metadata": {},
   "outputs": [],
   "source": [
    "\n",
    "\n",
    "# Разделяет данные\n",
    "df_male = df_raw_csv[df_raw_csv['Gender'] == 'Male']\n",
    "df_female = df_raw_csv[df_raw_csv['Gender'] == 'Female']\n",
    "\n",
    "# Линейная регрессия для мужчин\n",
    "coef_male = np.polyfit(df_male['Age'], df_male['Annual Income (k$)'], 1)\n",
    "line_male = np.poly1d(coef_male)\n",
    "ages_male = np.linspace(df_male['Age'].min(), df_male['Age'].max(), 100)\n",
    "\n",
    "# Линейная регрессия для женщин\n",
    "coef_female = np.polyfit(df_female['Age'], df_female['Annual Income (k$)'], 1)\n",
    "line_female = np.poly1d(coef_female)\n",
    "ages_female = np.linspace(df_female['Age'].min(), df_female['Age'].max(), 100)\n",
    "\n",
    "# График\n",
    "fig = go.Figure()\n",
    "\n",
    "fig.add_trace(go.Scatter(\n",
    "    x=df_male['Age'], y=df_male['Annual Income (k$)'],\n",
    "    mode='markers', name='Мужчины', marker=dict(color='blue')\n",
    "))\n",
    "fig.add_trace(go.Scatter(\n",
    "    x=ages_male, y=line_male(ages_male),\n",
    "    mode='lines', name='Регрессия: Мужчины', line=dict(color='blue', dash='dash')\n",
    "))\n",
    "\n",
    "fig.add_trace(go.Scatter(\n",
    "    x=df_female['Age'], y=df_female['Annual Income (k$)'],\n",
    "    mode='markers', name='Женщины', marker=dict(color='red')\n",
    "))\n",
    "fig.add_trace(go.Scatter(\n",
    "    x=ages_female, y=line_female(ages_female),\n",
    "    mode='lines', name='Регрессия: Женщины', line=dict(color='red', dash='dash')\n",
    "))\n",
    "\n",
    "fig.update_layout(\n",
    "    title='Корреляция между возрастом и доходом по полу',\n",
    "    xaxis_title='Возраст',\n",
    "    yaxis_title='Годовой доход (тыс $)',\n",
    "    template='plotly_white',\n",
    "    height=600,\n",
    "    legend=dict(\n",
    "        x=0.75,           # по оси X (1 — край справа)\n",
    "        y=1,           # по оси Y (1 — верх)\n",
    "        xanchor='left',# якорь по X\n",
    "        yanchor='bottom'  # якорь по Y\n",
    "    ),\n",
    ")\n",
    "pass"
   ]
  },
  {
   "cell_type": "markdown",
   "id": "fdec67bd",
   "metadata": {},
   "source": [
    "### Визуализация"
   ]
  },
  {
   "cell_type": "markdown",
   "id": "83efd0ee",
   "metadata": {},
   "source": [
    "#### Вариант №1"
   ]
  },
  {
   "cell_type": "code",
   "execution_count": 8,
   "id": "12cd8a79",
   "metadata": {},
   "outputs": [
    {
     "data": {
      "application/vnd.plotly.v1+json": {
       "config": {
        "plotlyServerURL": "https://plot.ly"
       },
       "data": [
        {
         "marker": {
          "color": "blue"
         },
         "mode": "markers",
         "name": "Мужчины",
         "type": "scatter",
         "x": {
          "bdata": "ExVAQyUWFDQjGR8dIzw1EhgwITsvRTVGEz8SE0Y7Gig5JkMwEjAYMBRDGjE2REJBExsnKyg7Ji8nFCATIBkcMCIrJyUiEzIqICgcJCQ6GzsjLh4cISAgHg==",
          "dtype": "i1"
         },
         "y": {
          "bdata": "DwAPABMAEwAUABQAFQAXABgAGAAZABwAHAAeACEAIQAmACcAKgArACsALAAuAC4ALgAwADAAMAAxADYANgA2ADYANgA2ADYAOwA8ADwAPQA9AD4APgA+AD8APwA/AD8AQABDAEUARwBHAEcARwBHAEcASQBJAEoASwBNAE0ATQBOAE4ATgBOAE4AUQBVAFYAVwBXAFcAVwBXAFgAWABdAF0AYgBjAGUAcQB+AIkAiQA=",
          "dtype": "i2"
         }
        },
        {
         "line": {
          "color": "blue",
          "dash": "dash"
         },
         "mode": "lines",
         "name": "Регрессия: Мужчины",
         "type": "scatter",
         "x": {
          "bdata": "AAAAAAAAMkDcGRLzdoYyQLgzJObtDDNAk0022WSTM0BvZ0jM2xk0QEuBWr9SoDRAJ5tssskmNUADtX6lQK01QN7OkJi3MzZAuuiiiy66NkCWArV+pUA3QHIcx3EcxzdATjbZZJNNOEAqUOtXCtQ4QAZq/UqBWjlA4YMPPvjgOUC9nSExb2c6QJm3MyTm7TpAdNFFF110O0BQ61cK1Po7QCwFav1KgTxACB988MEHPUDkOI7jOI49QMBSoNavFD5AnGyyySabPkB4hsS8nSE/QFOg1q8UqD9AGF100UUXQEAGav1KgVpAQPN2hsS8nUBA4YMPPvjgQEDPkJi3MyRBQL2dITFvZ0FAq6qqqqqqQUCZtzMk5u1BQIbEvJ0hMUJAdNFFF110QkBi3s6QmLdCQFDrVwrU+kJAPvjggw8+Q0AsBWr9SoFDQBoS83aGxENACB988MEHRED2KwVq/UpEQOQ4juM4jkRA0kUXXXTRREDAUqDWrxRFQK5fKVDrV0VAnGyyySabRUCKeTtDYt5FQHiGxLydIUZAZZNNNtlkRkBToNavFKhGQEGtXylQ60ZAL7rooosuR0Adx3Ecx3FHQAvU+pUCtUdA+OCDDz74R0Dm7QyJeTtIQNT6lQK1fkhAwgcffPDBSECwFKj1KwVJQJ4hMW9nSElAjC666KKLSUB6O0Ni3s5JQGhIzNsZEkpAVlVVVVVVSkBEYt7OkJhKQDJvZ0jM20pAIHzwwQcfS0ANiXk7Q2JLQPuVArV+pUtA6aKLLrroS0DXrxSo9StMQMW8nSExb0xAs8kmm2yyTECh1q8UqPVMQI/jOI7jOE1AffDBBx98TUBr/UqBWr9NQFgK1PqVAk5ARhdddNFFTkA0JObtDIlOQCIxb2dIzE5AED744IMPT0D+SoFav1JPQOxXCtT6lU9A2mSTTTbZT0DkOI7jOA5QQFu/UqDWL1BA0kUXXXRRUEBIzNsZEnNQQMBSoNavlFBANtlkk022UECuXylQ69dQQCTm7QyJ+VBAnGyyySYbUUAS83aGxDxRQIp5O0NiXlFAAAAAAACAUUA=",
          "dtype": "f8"
         },
         "y": {
          "bdata": "SM1SS1htUEApYlZ5+mdQQAn3WaecYlBA6otd1T5dUEDLIGED4VdQQKu1ZDGDUlBAjEpoXyVNUEBs32uNx0dQQE10b7tpQlBALQlz6Qs9UEAOnnYXrjdQQO4yekVQMlBAz8d9c/IsUECvXIGhlCdQQJDxhM82IlBAcIaI/dgcUEBRG4wrexdQQDKwj1kdElBAEkWTh78MUEDz2Za1YQdQQNNumuMDAlBAaAc8I0z5T0AoMUN/kO5PQOpaStvU409Aq4RRNxnZT0BsrliTXc5PQC3YX++hw09A7gFnS+a4T0CvK26nKq5PQHBVdQNvo09AMX98X7OYT0DyqIO7941PQLPSihc8g09AdPyRc4B4T0A2JpnPxG1PQPdPoCsJY09AuHmnh01YT0B5o67jkU1PQDrNtT/WQk9A+/a8mxo4T0C8IMT3Xi1PQH1Ky1OjIk9APnTSr+cXT0D/ndkLLA1PQMDH4GdwAk9AgfHnw7T3TkBCG+8f+exOQARF9ns94k5AxG7914HXTkCGmAQ0xsxOQEfCC5AKwk5ACOwS7E63TkDJFRpIk6xOQIo/IaTXoU5AS2koAByXTkAMky9cYIxOQM28NrikgU5AjuY9FOl2TkBQEEVwLWxOQBA6TMxxYU5A0mNTKLZWTkCTjVqE+ktOQFS3YeA+QU5AFeFoPIM2TkDWCnCYxytOQJc0d/QLIU5AWF5+UFAWTkAZiIWslAtOQNqxjAjZAE5Am9uTZB32TUBcBZvAYetNQB4vohym4E1A3lipeOrVTUCggrDULstNQGGstzBzwE1AIta+jLe1TUDj/8Xo+6pNQKQpzURAoE1AZVPUoISVTUAmfdv8yIpNQOem4lgNgE1AqNDptFF1TUBp+vAQlmpNQCok+GzaX01A7E3/yB5VTUCsdwYlY0pNQG6hDYGnP01ALssU3es0TUDw9Bs5MCpNQLEeI5V0H01Ackgq8bgUTUAzcjFN/QlNQPSbOKlB/0xAtcU/BYb0TEB270ZhyulMQDgZTr0O30xA+EJVGVPUTEC6bFx1l8lMQHqWY9HbvkxAPMBqLSC0TEA=",
          "dtype": "f8"
         }
        },
        {
         "marker": {
          "color": "red"
         },
         "mode": "markers",
         "name": "Женщины",
         "type": "scatter",
         "x": {
          "bdata": "FBcfFiMXHiM6GCMjLjYtKBcVMRUqHiQUQR8xGDIbHR8xHzIzG0M2K0QgLzw8LRcxLhU3FiIyRCggLxsXMRVCEyYSEz8xMzImKBcfGR8dLCM5HCAgIiwmLxseHjgdHyQhJDQeJSAdKTYpJCIgJi8jLQ==",
          "dtype": "i1"
         },
         "y": {
          "bdata": "EBARERISExMUFBUXGRwcHR0eISEiIiUlJicnJygoKCgqKyssLi8vMDAwMTIyNjY2NjY5OTo6Ozw8PDw+Pj4/P0BBQUFBQ0NDRUZGSEhJSUpLTExNTk5OTk5OTk9PUVVWV1hYYWFiY2VnZ2dncXh4fg==",
          "dtype": "i1"
         }
        },
        {
         "line": {
          "color": "red",
          "dash": "dash"
         },
         "mode": "lines",
         "name": "Регрессия: Женщины",
         "type": "scatter",
         "x": {
          "bdata": "AAAAAAAAMkAsBWr9SoEyQFgK1PqVAjNAhA8++OCDM0CwFKj1KwU0QNwZEvN2hjRACB988MEHNUA0JObtDIk1QGApUOtXCjZAjC666KKLNkC4MyTm7Qw3QOQ4juM4jjdAED744IMPOEA8Q2LezpA4QGhIzNsZEjlAlE022WSTOUDAUqDWrxQ6QOxXCtT6lTpAGF100UUXO0BEYt7OkJg7QHBnSMzbGTxAnGyyySabPEDIcRzHcRw9QPR2hsS8nT1AH3zwwQcfPkBLgVq/UqA+QHeGxLydIT9Ao4suuuiiP0BoSMzbGRJAQP5KgVq/UkBAlE022WSTQEAqUOtXCtRAQMBSoNavFEFAVlVVVVVVQUDsVwrU+pVBQIJav1Kg1kFAGF100UUXQkCuXylQ61dCQERi3s6QmEJA2mSTTTbZQkBwZ0jM2xlDQAZq/UqBWkNAnGyyySabQ0Ayb2dIzNtDQMhxHMdxHERAXnTRRRddRED0dobEvJ1EQIp5O0Ni3kRAH3zwwQcfRUC1fqVArV9FQEuBWr9SoEVA4YMPPvjgRUB3hsS8nSFGQA2JeTtDYkZAo4suuuiiRkA5juM4juNGQM+QmLczJEdAZZNNNtlkR0D7lQK1fqVHQJGYtzMk5kdAJ5tssskmSEC9nSExb2dIQFOg1q8UqEhA6aKLLrroSEB/pUCtXylJQBWo9SsFaklAq6qqqqqqSUBBrV8pUOtJQNevFKj1K0pAbbLJJptsSkADtX6lQK1KQJm3MyTm7UpAL7rooosuS0DFvJ0hMW9LQFu/UqDWr0tA8cEHH3zwS0CHxLydITFMQB3HcRzHcUxAs8kmm2yyTEBJzNsZEvNMQN/OkJi3M01AddFFF110TUAL1PqVArVNQKHWrxSo9U1AN9lkk002TkDN2xkS83ZOQGPezpCYt05A+eCDDz74TkCP4ziO4zhPQCXm7QyJeU9Au+iiiy66T0BR61cK1PpPQPR2hsS8HVBAPvjggw8+UECKeTtDYl5QQNT6lQK1flBAH3zwwQefUEBq/UqBWr9QQLV+pUCt31BAAAAAAAAAUUA=",
          "dtype": "f8"
         },
         "y": {
          "bdata": "2wmOzOtiTED/hdWV42pMQCMCHV/bckxASH5kKNN6TEBs+qvxyoJMQJB287rCikxAtPI6hLqSTEDYboJNsppMQPzqyRaqokxAIWcR4KGqTEBF41ipmbJMQGlfoHKRukxAjdvnO4nCTECxVy8FgcpMQNbTds540kxA+k++l3DaTEAezAVhaOJMQEJITSpg6kxAZsSU81fyTECLQNy8T/pMQK+8I4ZHAk1A0zhrTz8KTUD3tLIYNxJNQBsx+uEuGk1AP61BqyYiTUBkKYl0HipNQIil0D0WMk1ArCEYBw46TUDQnV/QBUJNQPQZp5n9SU1AGZbuYvVRTUA9EjYs7VlNQGGOffXkYU1AhQrFvtxpTUCphgyI1HFNQM4CVFHMeU1A8n6bGsSBTUAW++Lju4lNQDp3Kq2zkU1AXvNxdquZTUCCb7k/o6FNQKfrAAmbqU1Ay2dI0pKxTUDv44+birlNQBNg12SCwU1AN9weLnrJTUBcWGb3cdFNQIDUrcBp2U1ApFD1iWHhTUDIzDxTWelNQOxIhBxR8U1AEMXL5Uj5TUA1QROvQAFOQFm9Wng4CU5AfTmiQTARTkChtekKKBlOQMUxMdQfIU5A6q14nRcpTkAOKsBmDzFOQDKmBzAHOU5AViJP+f5ATkB6npbC9khOQJ4a3ovuUE5Aw5YlVeZYTkDnEm0e3mBOQAuPtOfVaE5ALwv8sM1wTkBTh0N6xXhOQHgDi0O9gE5AnH/SDLWITkDA+xnWrJBOQOR3YZ+kmE5ACPSoaJygTkAscPAxlKhOQFHsN/uLsE5AdWh/xIO4TkCZ5MaNe8BOQL1gDldzyE5A4txVIGvQTkAGWZ3pYthOQCrV5LJa4E5ATlEsfFLoTkByzXNFSvBOQJZJuw5C+E5Au8UC2DkAT0DfQUqhMQhPQAO+kWopEE9AJzrZMyEYT0BLtiD9GCBPQHAyaMYQKE9AlK6vjwgwT0C4KvdYADhPQNymPiL4P09AACOG6+9HT0Akn820509PQEgbFX7fV09AbZdcR9dfT0CRE6QQz2dPQLWP69nGb09A2Qszo753T0A=",
          "dtype": "f8"
         }
        }
       ],
       "layout": {
        "height": 600,
        "legend": {
         "x": 0.75,
         "xanchor": "left",
         "y": 1,
         "yanchor": "bottom"
        },
        "template": {
         "data": {
          "bar": [
           {
            "error_x": {
             "color": "#2a3f5f"
            },
            "error_y": {
             "color": "#2a3f5f"
            },
            "marker": {
             "line": {
              "color": "white",
              "width": 0.5
             },
             "pattern": {
              "fillmode": "overlay",
              "size": 10,
              "solidity": 0.2
             }
            },
            "type": "bar"
           }
          ],
          "barpolar": [
           {
            "marker": {
             "line": {
              "color": "white",
              "width": 0.5
             },
             "pattern": {
              "fillmode": "overlay",
              "size": 10,
              "solidity": 0.2
             }
            },
            "type": "barpolar"
           }
          ],
          "carpet": [
           {
            "aaxis": {
             "endlinecolor": "#2a3f5f",
             "gridcolor": "#C8D4E3",
             "linecolor": "#C8D4E3",
             "minorgridcolor": "#C8D4E3",
             "startlinecolor": "#2a3f5f"
            },
            "baxis": {
             "endlinecolor": "#2a3f5f",
             "gridcolor": "#C8D4E3",
             "linecolor": "#C8D4E3",
             "minorgridcolor": "#C8D4E3",
             "startlinecolor": "#2a3f5f"
            },
            "type": "carpet"
           }
          ],
          "choropleth": [
           {
            "colorbar": {
             "outlinewidth": 0,
             "ticks": ""
            },
            "type": "choropleth"
           }
          ],
          "contour": [
           {
            "colorbar": {
             "outlinewidth": 0,
             "ticks": ""
            },
            "colorscale": [
             [
              0,
              "#0d0887"
             ],
             [
              0.1111111111111111,
              "#46039f"
             ],
             [
              0.2222222222222222,
              "#7201a8"
             ],
             [
              0.3333333333333333,
              "#9c179e"
             ],
             [
              0.4444444444444444,
              "#bd3786"
             ],
             [
              0.5555555555555556,
              "#d8576b"
             ],
             [
              0.6666666666666666,
              "#ed7953"
             ],
             [
              0.7777777777777778,
              "#fb9f3a"
             ],
             [
              0.8888888888888888,
              "#fdca26"
             ],
             [
              1,
              "#f0f921"
             ]
            ],
            "type": "contour"
           }
          ],
          "contourcarpet": [
           {
            "colorbar": {
             "outlinewidth": 0,
             "ticks": ""
            },
            "type": "contourcarpet"
           }
          ],
          "heatmap": [
           {
            "colorbar": {
             "outlinewidth": 0,
             "ticks": ""
            },
            "colorscale": [
             [
              0,
              "#0d0887"
             ],
             [
              0.1111111111111111,
              "#46039f"
             ],
             [
              0.2222222222222222,
              "#7201a8"
             ],
             [
              0.3333333333333333,
              "#9c179e"
             ],
             [
              0.4444444444444444,
              "#bd3786"
             ],
             [
              0.5555555555555556,
              "#d8576b"
             ],
             [
              0.6666666666666666,
              "#ed7953"
             ],
             [
              0.7777777777777778,
              "#fb9f3a"
             ],
             [
              0.8888888888888888,
              "#fdca26"
             ],
             [
              1,
              "#f0f921"
             ]
            ],
            "type": "heatmap"
           }
          ],
          "histogram": [
           {
            "marker": {
             "pattern": {
              "fillmode": "overlay",
              "size": 10,
              "solidity": 0.2
             }
            },
            "type": "histogram"
           }
          ],
          "histogram2d": [
           {
            "colorbar": {
             "outlinewidth": 0,
             "ticks": ""
            },
            "colorscale": [
             [
              0,
              "#0d0887"
             ],
             [
              0.1111111111111111,
              "#46039f"
             ],
             [
              0.2222222222222222,
              "#7201a8"
             ],
             [
              0.3333333333333333,
              "#9c179e"
             ],
             [
              0.4444444444444444,
              "#bd3786"
             ],
             [
              0.5555555555555556,
              "#d8576b"
             ],
             [
              0.6666666666666666,
              "#ed7953"
             ],
             [
              0.7777777777777778,
              "#fb9f3a"
             ],
             [
              0.8888888888888888,
              "#fdca26"
             ],
             [
              1,
              "#f0f921"
             ]
            ],
            "type": "histogram2d"
           }
          ],
          "histogram2dcontour": [
           {
            "colorbar": {
             "outlinewidth": 0,
             "ticks": ""
            },
            "colorscale": [
             [
              0,
              "#0d0887"
             ],
             [
              0.1111111111111111,
              "#46039f"
             ],
             [
              0.2222222222222222,
              "#7201a8"
             ],
             [
              0.3333333333333333,
              "#9c179e"
             ],
             [
              0.4444444444444444,
              "#bd3786"
             ],
             [
              0.5555555555555556,
              "#d8576b"
             ],
             [
              0.6666666666666666,
              "#ed7953"
             ],
             [
              0.7777777777777778,
              "#fb9f3a"
             ],
             [
              0.8888888888888888,
              "#fdca26"
             ],
             [
              1,
              "#f0f921"
             ]
            ],
            "type": "histogram2dcontour"
           }
          ],
          "mesh3d": [
           {
            "colorbar": {
             "outlinewidth": 0,
             "ticks": ""
            },
            "type": "mesh3d"
           }
          ],
          "parcoords": [
           {
            "line": {
             "colorbar": {
              "outlinewidth": 0,
              "ticks": ""
             }
            },
            "type": "parcoords"
           }
          ],
          "pie": [
           {
            "automargin": true,
            "type": "pie"
           }
          ],
          "scatter": [
           {
            "fillpattern": {
             "fillmode": "overlay",
             "size": 10,
             "solidity": 0.2
            },
            "type": "scatter"
           }
          ],
          "scatter3d": [
           {
            "line": {
             "colorbar": {
              "outlinewidth": 0,
              "ticks": ""
             }
            },
            "marker": {
             "colorbar": {
              "outlinewidth": 0,
              "ticks": ""
             }
            },
            "type": "scatter3d"
           }
          ],
          "scattercarpet": [
           {
            "marker": {
             "colorbar": {
              "outlinewidth": 0,
              "ticks": ""
             }
            },
            "type": "scattercarpet"
           }
          ],
          "scattergeo": [
           {
            "marker": {
             "colorbar": {
              "outlinewidth": 0,
              "ticks": ""
             }
            },
            "type": "scattergeo"
           }
          ],
          "scattergl": [
           {
            "marker": {
             "colorbar": {
              "outlinewidth": 0,
              "ticks": ""
             }
            },
            "type": "scattergl"
           }
          ],
          "scattermap": [
           {
            "marker": {
             "colorbar": {
              "outlinewidth": 0,
              "ticks": ""
             }
            },
            "type": "scattermap"
           }
          ],
          "scattermapbox": [
           {
            "marker": {
             "colorbar": {
              "outlinewidth": 0,
              "ticks": ""
             }
            },
            "type": "scattermapbox"
           }
          ],
          "scatterpolar": [
           {
            "marker": {
             "colorbar": {
              "outlinewidth": 0,
              "ticks": ""
             }
            },
            "type": "scatterpolar"
           }
          ],
          "scatterpolargl": [
           {
            "marker": {
             "colorbar": {
              "outlinewidth": 0,
              "ticks": ""
             }
            },
            "type": "scatterpolargl"
           }
          ],
          "scatterternary": [
           {
            "marker": {
             "colorbar": {
              "outlinewidth": 0,
              "ticks": ""
             }
            },
            "type": "scatterternary"
           }
          ],
          "surface": [
           {
            "colorbar": {
             "outlinewidth": 0,
             "ticks": ""
            },
            "colorscale": [
             [
              0,
              "#0d0887"
             ],
             [
              0.1111111111111111,
              "#46039f"
             ],
             [
              0.2222222222222222,
              "#7201a8"
             ],
             [
              0.3333333333333333,
              "#9c179e"
             ],
             [
              0.4444444444444444,
              "#bd3786"
             ],
             [
              0.5555555555555556,
              "#d8576b"
             ],
             [
              0.6666666666666666,
              "#ed7953"
             ],
             [
              0.7777777777777778,
              "#fb9f3a"
             ],
             [
              0.8888888888888888,
              "#fdca26"
             ],
             [
              1,
              "#f0f921"
             ]
            ],
            "type": "surface"
           }
          ],
          "table": [
           {
            "cells": {
             "fill": {
              "color": "#EBF0F8"
             },
             "line": {
              "color": "white"
             }
            },
            "header": {
             "fill": {
              "color": "#C8D4E3"
             },
             "line": {
              "color": "white"
             }
            },
            "type": "table"
           }
          ]
         },
         "layout": {
          "annotationdefaults": {
           "arrowcolor": "#2a3f5f",
           "arrowhead": 0,
           "arrowwidth": 1
          },
          "autotypenumbers": "strict",
          "coloraxis": {
           "colorbar": {
            "outlinewidth": 0,
            "ticks": ""
           }
          },
          "colorscale": {
           "diverging": [
            [
             0,
             "#8e0152"
            ],
            [
             0.1,
             "#c51b7d"
            ],
            [
             0.2,
             "#de77ae"
            ],
            [
             0.3,
             "#f1b6da"
            ],
            [
             0.4,
             "#fde0ef"
            ],
            [
             0.5,
             "#f7f7f7"
            ],
            [
             0.6,
             "#e6f5d0"
            ],
            [
             0.7,
             "#b8e186"
            ],
            [
             0.8,
             "#7fbc41"
            ],
            [
             0.9,
             "#4d9221"
            ],
            [
             1,
             "#276419"
            ]
           ],
           "sequential": [
            [
             0,
             "#0d0887"
            ],
            [
             0.1111111111111111,
             "#46039f"
            ],
            [
             0.2222222222222222,
             "#7201a8"
            ],
            [
             0.3333333333333333,
             "#9c179e"
            ],
            [
             0.4444444444444444,
             "#bd3786"
            ],
            [
             0.5555555555555556,
             "#d8576b"
            ],
            [
             0.6666666666666666,
             "#ed7953"
            ],
            [
             0.7777777777777778,
             "#fb9f3a"
            ],
            [
             0.8888888888888888,
             "#fdca26"
            ],
            [
             1,
             "#f0f921"
            ]
           ],
           "sequentialminus": [
            [
             0,
             "#0d0887"
            ],
            [
             0.1111111111111111,
             "#46039f"
            ],
            [
             0.2222222222222222,
             "#7201a8"
            ],
            [
             0.3333333333333333,
             "#9c179e"
            ],
            [
             0.4444444444444444,
             "#bd3786"
            ],
            [
             0.5555555555555556,
             "#d8576b"
            ],
            [
             0.6666666666666666,
             "#ed7953"
            ],
            [
             0.7777777777777778,
             "#fb9f3a"
            ],
            [
             0.8888888888888888,
             "#fdca26"
            ],
            [
             1,
             "#f0f921"
            ]
           ]
          },
          "colorway": [
           "#636efa",
           "#EF553B",
           "#00cc96",
           "#ab63fa",
           "#FFA15A",
           "#19d3f3",
           "#FF6692",
           "#B6E880",
           "#FF97FF",
           "#FECB52"
          ],
          "font": {
           "color": "#2a3f5f"
          },
          "geo": {
           "bgcolor": "white",
           "lakecolor": "white",
           "landcolor": "white",
           "showlakes": true,
           "showland": true,
           "subunitcolor": "#C8D4E3"
          },
          "hoverlabel": {
           "align": "left"
          },
          "hovermode": "closest",
          "mapbox": {
           "style": "light"
          },
          "paper_bgcolor": "white",
          "plot_bgcolor": "white",
          "polar": {
           "angularaxis": {
            "gridcolor": "#EBF0F8",
            "linecolor": "#EBF0F8",
            "ticks": ""
           },
           "bgcolor": "white",
           "radialaxis": {
            "gridcolor": "#EBF0F8",
            "linecolor": "#EBF0F8",
            "ticks": ""
           }
          },
          "scene": {
           "xaxis": {
            "backgroundcolor": "white",
            "gridcolor": "#DFE8F3",
            "gridwidth": 2,
            "linecolor": "#EBF0F8",
            "showbackground": true,
            "ticks": "",
            "zerolinecolor": "#EBF0F8"
           },
           "yaxis": {
            "backgroundcolor": "white",
            "gridcolor": "#DFE8F3",
            "gridwidth": 2,
            "linecolor": "#EBF0F8",
            "showbackground": true,
            "ticks": "",
            "zerolinecolor": "#EBF0F8"
           },
           "zaxis": {
            "backgroundcolor": "white",
            "gridcolor": "#DFE8F3",
            "gridwidth": 2,
            "linecolor": "#EBF0F8",
            "showbackground": true,
            "ticks": "",
            "zerolinecolor": "#EBF0F8"
           }
          },
          "shapedefaults": {
           "line": {
            "color": "#2a3f5f"
           }
          },
          "ternary": {
           "aaxis": {
            "gridcolor": "#DFE8F3",
            "linecolor": "#A2B1C6",
            "ticks": ""
           },
           "baxis": {
            "gridcolor": "#DFE8F3",
            "linecolor": "#A2B1C6",
            "ticks": ""
           },
           "bgcolor": "white",
           "caxis": {
            "gridcolor": "#DFE8F3",
            "linecolor": "#A2B1C6",
            "ticks": ""
           }
          },
          "title": {
           "x": 0.05
          },
          "xaxis": {
           "automargin": true,
           "gridcolor": "#EBF0F8",
           "linecolor": "#EBF0F8",
           "ticks": "",
           "title": {
            "standoff": 15
           },
           "zerolinecolor": "#EBF0F8",
           "zerolinewidth": 2
          },
          "yaxis": {
           "automargin": true,
           "gridcolor": "#EBF0F8",
           "linecolor": "#EBF0F8",
           "ticks": "",
           "title": {
            "standoff": 15
           },
           "zerolinecolor": "#EBF0F8",
           "zerolinewidth": 2
          }
         }
        },
        "title": {
         "text": "Корреляция между возрастом и доходом по полу"
        },
        "xaxis": {
         "title": {
          "text": "Возраст"
         }
        },
        "yaxis": {
         "title": {
          "text": "Годовой доход (тыс $)"
         }
        }
       }
      }
     },
     "metadata": {},
     "output_type": "display_data"
    }
   ],
   "source": [
    "fig.show()"
   ]
  },
  {
   "cell_type": "markdown",
   "id": "510bce76",
   "metadata": {},
   "source": [
    "#### Вариант №2"
   ]
  },
  {
   "cell_type": "code",
   "execution_count": 9,
   "id": "dcddc512",
   "metadata": {},
   "outputs": [
    {
     "data": {
      "application/vnd.plotly.v1+json": {
       "config": {
        "plotlyServerURL": "https://plot.ly"
       },
       "data": [
        {
         "hovertemplate": "Пол=Male<br>Возраст=%{x}<br>Годовой доход (тыс $)=%{y}<extra></extra>",
         "legendgroup": "Male",
         "marker": {
          "color": "#636efa",
          "symbol": "circle"
         },
         "mode": "markers",
         "name": "Male",
         "orientation": "v",
         "showlegend": true,
         "type": "scatter",
         "x": {
          "bdata": "ExVAQyUWFDQjGR8dIzw1EhgwITsvRTVGEz8SE0Y7Gig5JkMwEjAYMBRDGjE2REJBExsnKyg7Ji8nFCATIBkcMCIrJyUiEzIqICgcJCQ6GzsjLh4cISAgHg==",
          "dtype": "i1"
         },
         "xaxis": "x",
         "y": {
          "bdata": "DwAPABMAEwAUABQAFQAXABgAGAAZABwAHAAeACEAIQAmACcAKgArACsALAAuAC4ALgAwADAAMAAxADYANgA2ADYANgA2ADYAOwA8ADwAPQA9AD4APgA+AD8APwA/AD8AQABDAEUARwBHAEcARwBHAEcASQBJAEoASwBNAE0ATQBOAE4ATgBOAE4AUQBVAFYAVwBXAFcAVwBXAFgAWABdAF0AYgBjAGUAcQB+AIkAiQA=",
          "dtype": "i2"
         },
         "yaxis": "y"
        },
        {
         "hovertemplate": "Пол=Female<br>Возраст=%{x}<br>Годовой доход (тыс $)=%{y}<extra></extra>",
         "legendgroup": "Female",
         "marker": {
          "color": "#EF553B",
          "symbol": "circle"
         },
         "mode": "markers",
         "name": "Female",
         "orientation": "v",
         "showlegend": true,
         "type": "scatter",
         "x": {
          "bdata": "FBcfFiMXHiM6GCMjLjYtKBcVMRUqHiQUQR8xGDIbHR8xHzIzG0M2K0QgLzw8LRcxLhU3FiIyRCggLxsXMRVCEyYSEz8xMzImKBcfGR8dLCM5HCAgIiwmLxseHjgdHyQhJDQeJSAdKTYpJCIgJi8jLQ==",
          "dtype": "i1"
         },
         "xaxis": "x",
         "y": {
          "bdata": "EBARERISExMUFBUXGRwcHR0eISEiIiUlJicnJygoKCgqKyssLi8vMDAwMTIyNjY2NjY5OTo6Ozw8PDw+Pj4/P0BBQUFBQ0NDRUZGSEhJSUpLTExNTk5OTk5OTk9PUVVWV1hYYWFiY2VnZ2dncXh4fg==",
          "dtype": "i1"
         },
         "yaxis": "y"
        }
       ],
       "layout": {
        "legend": {
         "title": {
          "text": "Пол"
         },
         "tracegroupgap": 0
        },
        "template": {
         "data": {
          "bar": [
           {
            "error_x": {
             "color": "#2a3f5f"
            },
            "error_y": {
             "color": "#2a3f5f"
            },
            "marker": {
             "line": {
              "color": "white",
              "width": 0.5
             },
             "pattern": {
              "fillmode": "overlay",
              "size": 10,
              "solidity": 0.2
             }
            },
            "type": "bar"
           }
          ],
          "barpolar": [
           {
            "marker": {
             "line": {
              "color": "white",
              "width": 0.5
             },
             "pattern": {
              "fillmode": "overlay",
              "size": 10,
              "solidity": 0.2
             }
            },
            "type": "barpolar"
           }
          ],
          "carpet": [
           {
            "aaxis": {
             "endlinecolor": "#2a3f5f",
             "gridcolor": "#C8D4E3",
             "linecolor": "#C8D4E3",
             "minorgridcolor": "#C8D4E3",
             "startlinecolor": "#2a3f5f"
            },
            "baxis": {
             "endlinecolor": "#2a3f5f",
             "gridcolor": "#C8D4E3",
             "linecolor": "#C8D4E3",
             "minorgridcolor": "#C8D4E3",
             "startlinecolor": "#2a3f5f"
            },
            "type": "carpet"
           }
          ],
          "choropleth": [
           {
            "colorbar": {
             "outlinewidth": 0,
             "ticks": ""
            },
            "type": "choropleth"
           }
          ],
          "contour": [
           {
            "colorbar": {
             "outlinewidth": 0,
             "ticks": ""
            },
            "colorscale": [
             [
              0,
              "#0d0887"
             ],
             [
              0.1111111111111111,
              "#46039f"
             ],
             [
              0.2222222222222222,
              "#7201a8"
             ],
             [
              0.3333333333333333,
              "#9c179e"
             ],
             [
              0.4444444444444444,
              "#bd3786"
             ],
             [
              0.5555555555555556,
              "#d8576b"
             ],
             [
              0.6666666666666666,
              "#ed7953"
             ],
             [
              0.7777777777777778,
              "#fb9f3a"
             ],
             [
              0.8888888888888888,
              "#fdca26"
             ],
             [
              1,
              "#f0f921"
             ]
            ],
            "type": "contour"
           }
          ],
          "contourcarpet": [
           {
            "colorbar": {
             "outlinewidth": 0,
             "ticks": ""
            },
            "type": "contourcarpet"
           }
          ],
          "heatmap": [
           {
            "colorbar": {
             "outlinewidth": 0,
             "ticks": ""
            },
            "colorscale": [
             [
              0,
              "#0d0887"
             ],
             [
              0.1111111111111111,
              "#46039f"
             ],
             [
              0.2222222222222222,
              "#7201a8"
             ],
             [
              0.3333333333333333,
              "#9c179e"
             ],
             [
              0.4444444444444444,
              "#bd3786"
             ],
             [
              0.5555555555555556,
              "#d8576b"
             ],
             [
              0.6666666666666666,
              "#ed7953"
             ],
             [
              0.7777777777777778,
              "#fb9f3a"
             ],
             [
              0.8888888888888888,
              "#fdca26"
             ],
             [
              1,
              "#f0f921"
             ]
            ],
            "type": "heatmap"
           }
          ],
          "histogram": [
           {
            "marker": {
             "pattern": {
              "fillmode": "overlay",
              "size": 10,
              "solidity": 0.2
             }
            },
            "type": "histogram"
           }
          ],
          "histogram2d": [
           {
            "colorbar": {
             "outlinewidth": 0,
             "ticks": ""
            },
            "colorscale": [
             [
              0,
              "#0d0887"
             ],
             [
              0.1111111111111111,
              "#46039f"
             ],
             [
              0.2222222222222222,
              "#7201a8"
             ],
             [
              0.3333333333333333,
              "#9c179e"
             ],
             [
              0.4444444444444444,
              "#bd3786"
             ],
             [
              0.5555555555555556,
              "#d8576b"
             ],
             [
              0.6666666666666666,
              "#ed7953"
             ],
             [
              0.7777777777777778,
              "#fb9f3a"
             ],
             [
              0.8888888888888888,
              "#fdca26"
             ],
             [
              1,
              "#f0f921"
             ]
            ],
            "type": "histogram2d"
           }
          ],
          "histogram2dcontour": [
           {
            "colorbar": {
             "outlinewidth": 0,
             "ticks": ""
            },
            "colorscale": [
             [
              0,
              "#0d0887"
             ],
             [
              0.1111111111111111,
              "#46039f"
             ],
             [
              0.2222222222222222,
              "#7201a8"
             ],
             [
              0.3333333333333333,
              "#9c179e"
             ],
             [
              0.4444444444444444,
              "#bd3786"
             ],
             [
              0.5555555555555556,
              "#d8576b"
             ],
             [
              0.6666666666666666,
              "#ed7953"
             ],
             [
              0.7777777777777778,
              "#fb9f3a"
             ],
             [
              0.8888888888888888,
              "#fdca26"
             ],
             [
              1,
              "#f0f921"
             ]
            ],
            "type": "histogram2dcontour"
           }
          ],
          "mesh3d": [
           {
            "colorbar": {
             "outlinewidth": 0,
             "ticks": ""
            },
            "type": "mesh3d"
           }
          ],
          "parcoords": [
           {
            "line": {
             "colorbar": {
              "outlinewidth": 0,
              "ticks": ""
             }
            },
            "type": "parcoords"
           }
          ],
          "pie": [
           {
            "automargin": true,
            "type": "pie"
           }
          ],
          "scatter": [
           {
            "fillpattern": {
             "fillmode": "overlay",
             "size": 10,
             "solidity": 0.2
            },
            "type": "scatter"
           }
          ],
          "scatter3d": [
           {
            "line": {
             "colorbar": {
              "outlinewidth": 0,
              "ticks": ""
             }
            },
            "marker": {
             "colorbar": {
              "outlinewidth": 0,
              "ticks": ""
             }
            },
            "type": "scatter3d"
           }
          ],
          "scattercarpet": [
           {
            "marker": {
             "colorbar": {
              "outlinewidth": 0,
              "ticks": ""
             }
            },
            "type": "scattercarpet"
           }
          ],
          "scattergeo": [
           {
            "marker": {
             "colorbar": {
              "outlinewidth": 0,
              "ticks": ""
             }
            },
            "type": "scattergeo"
           }
          ],
          "scattergl": [
           {
            "marker": {
             "colorbar": {
              "outlinewidth": 0,
              "ticks": ""
             }
            },
            "type": "scattergl"
           }
          ],
          "scattermap": [
           {
            "marker": {
             "colorbar": {
              "outlinewidth": 0,
              "ticks": ""
             }
            },
            "type": "scattermap"
           }
          ],
          "scattermapbox": [
           {
            "marker": {
             "colorbar": {
              "outlinewidth": 0,
              "ticks": ""
             }
            },
            "type": "scattermapbox"
           }
          ],
          "scatterpolar": [
           {
            "marker": {
             "colorbar": {
              "outlinewidth": 0,
              "ticks": ""
             }
            },
            "type": "scatterpolar"
           }
          ],
          "scatterpolargl": [
           {
            "marker": {
             "colorbar": {
              "outlinewidth": 0,
              "ticks": ""
             }
            },
            "type": "scatterpolargl"
           }
          ],
          "scatterternary": [
           {
            "marker": {
             "colorbar": {
              "outlinewidth": 0,
              "ticks": ""
             }
            },
            "type": "scatterternary"
           }
          ],
          "surface": [
           {
            "colorbar": {
             "outlinewidth": 0,
             "ticks": ""
            },
            "colorscale": [
             [
              0,
              "#0d0887"
             ],
             [
              0.1111111111111111,
              "#46039f"
             ],
             [
              0.2222222222222222,
              "#7201a8"
             ],
             [
              0.3333333333333333,
              "#9c179e"
             ],
             [
              0.4444444444444444,
              "#bd3786"
             ],
             [
              0.5555555555555556,
              "#d8576b"
             ],
             [
              0.6666666666666666,
              "#ed7953"
             ],
             [
              0.7777777777777778,
              "#fb9f3a"
             ],
             [
              0.8888888888888888,
              "#fdca26"
             ],
             [
              1,
              "#f0f921"
             ]
            ],
            "type": "surface"
           }
          ],
          "table": [
           {
            "cells": {
             "fill": {
              "color": "#EBF0F8"
             },
             "line": {
              "color": "white"
             }
            },
            "header": {
             "fill": {
              "color": "#C8D4E3"
             },
             "line": {
              "color": "white"
             }
            },
            "type": "table"
           }
          ]
         },
         "layout": {
          "annotationdefaults": {
           "arrowcolor": "#2a3f5f",
           "arrowhead": 0,
           "arrowwidth": 1
          },
          "autotypenumbers": "strict",
          "coloraxis": {
           "colorbar": {
            "outlinewidth": 0,
            "ticks": ""
           }
          },
          "colorscale": {
           "diverging": [
            [
             0,
             "#8e0152"
            ],
            [
             0.1,
             "#c51b7d"
            ],
            [
             0.2,
             "#de77ae"
            ],
            [
             0.3,
             "#f1b6da"
            ],
            [
             0.4,
             "#fde0ef"
            ],
            [
             0.5,
             "#f7f7f7"
            ],
            [
             0.6,
             "#e6f5d0"
            ],
            [
             0.7,
             "#b8e186"
            ],
            [
             0.8,
             "#7fbc41"
            ],
            [
             0.9,
             "#4d9221"
            ],
            [
             1,
             "#276419"
            ]
           ],
           "sequential": [
            [
             0,
             "#0d0887"
            ],
            [
             0.1111111111111111,
             "#46039f"
            ],
            [
             0.2222222222222222,
             "#7201a8"
            ],
            [
             0.3333333333333333,
             "#9c179e"
            ],
            [
             0.4444444444444444,
             "#bd3786"
            ],
            [
             0.5555555555555556,
             "#d8576b"
            ],
            [
             0.6666666666666666,
             "#ed7953"
            ],
            [
             0.7777777777777778,
             "#fb9f3a"
            ],
            [
             0.8888888888888888,
             "#fdca26"
            ],
            [
             1,
             "#f0f921"
            ]
           ],
           "sequentialminus": [
            [
             0,
             "#0d0887"
            ],
            [
             0.1111111111111111,
             "#46039f"
            ],
            [
             0.2222222222222222,
             "#7201a8"
            ],
            [
             0.3333333333333333,
             "#9c179e"
            ],
            [
             0.4444444444444444,
             "#bd3786"
            ],
            [
             0.5555555555555556,
             "#d8576b"
            ],
            [
             0.6666666666666666,
             "#ed7953"
            ],
            [
             0.7777777777777778,
             "#fb9f3a"
            ],
            [
             0.8888888888888888,
             "#fdca26"
            ],
            [
             1,
             "#f0f921"
            ]
           ]
          },
          "colorway": [
           "#636efa",
           "#EF553B",
           "#00cc96",
           "#ab63fa",
           "#FFA15A",
           "#19d3f3",
           "#FF6692",
           "#B6E880",
           "#FF97FF",
           "#FECB52"
          ],
          "font": {
           "color": "#2a3f5f"
          },
          "geo": {
           "bgcolor": "white",
           "lakecolor": "white",
           "landcolor": "white",
           "showlakes": true,
           "showland": true,
           "subunitcolor": "#C8D4E3"
          },
          "hoverlabel": {
           "align": "left"
          },
          "hovermode": "closest",
          "mapbox": {
           "style": "light"
          },
          "paper_bgcolor": "white",
          "plot_bgcolor": "white",
          "polar": {
           "angularaxis": {
            "gridcolor": "#EBF0F8",
            "linecolor": "#EBF0F8",
            "ticks": ""
           },
           "bgcolor": "white",
           "radialaxis": {
            "gridcolor": "#EBF0F8",
            "linecolor": "#EBF0F8",
            "ticks": ""
           }
          },
          "scene": {
           "xaxis": {
            "backgroundcolor": "white",
            "gridcolor": "#DFE8F3",
            "gridwidth": 2,
            "linecolor": "#EBF0F8",
            "showbackground": true,
            "ticks": "",
            "zerolinecolor": "#EBF0F8"
           },
           "yaxis": {
            "backgroundcolor": "white",
            "gridcolor": "#DFE8F3",
            "gridwidth": 2,
            "linecolor": "#EBF0F8",
            "showbackground": true,
            "ticks": "",
            "zerolinecolor": "#EBF0F8"
           },
           "zaxis": {
            "backgroundcolor": "white",
            "gridcolor": "#DFE8F3",
            "gridwidth": 2,
            "linecolor": "#EBF0F8",
            "showbackground": true,
            "ticks": "",
            "zerolinecolor": "#EBF0F8"
           }
          },
          "shapedefaults": {
           "line": {
            "color": "#2a3f5f"
           }
          },
          "ternary": {
           "aaxis": {
            "gridcolor": "#DFE8F3",
            "linecolor": "#A2B1C6",
            "ticks": ""
           },
           "baxis": {
            "gridcolor": "#DFE8F3",
            "linecolor": "#A2B1C6",
            "ticks": ""
           },
           "bgcolor": "white",
           "caxis": {
            "gridcolor": "#DFE8F3",
            "linecolor": "#A2B1C6",
            "ticks": ""
           }
          },
          "title": {
           "x": 0.05
          },
          "xaxis": {
           "automargin": true,
           "gridcolor": "#EBF0F8",
           "linecolor": "#EBF0F8",
           "ticks": "",
           "title": {
            "standoff": 15
           },
           "zerolinecolor": "#EBF0F8",
           "zerolinewidth": 2
          },
          "yaxis": {
           "automargin": true,
           "gridcolor": "#EBF0F8",
           "linecolor": "#EBF0F8",
           "ticks": "",
           "title": {
            "standoff": 15
           },
           "zerolinecolor": "#EBF0F8",
           "zerolinewidth": 2
          }
         }
        },
        "title": {
         "text": "Зависимость дохода от возраста по полу"
        },
        "xaxis": {
         "anchor": "y",
         "domain": [
          0,
          1
         ],
         "title": {
          "text": "Возраст"
         }
        },
        "yaxis": {
         "anchor": "x",
         "domain": [
          0,
          1
         ],
         "title": {
          "text": "Годовой доход (тыс $)"
         }
        }
       }
      }
     },
     "metadata": {},
     "output_type": "display_data"
    }
   ],
   "source": [
    "import plotly.express as px\n",
    "\n",
    "fig = px.scatter(\n",
    "    df_raw_csv,\n",
    "    x=\"Age\",\n",
    "    y=\"Annual Income (k$)\",\n",
    "    color=\"Gender\",  # разделение по полу, две серии на одном графике\n",
    "    title=\"Зависимость дохода от возраста по полу\",\n",
    "    labels={\"Age\": \"Возраст\", \"Annual Income (k$)\": \"Годовой доход (тыс $)\", \"Gender\": \"Пол\"},\n",
    "    template=\"plotly_white\"\n",
    ")\n",
    "fig.show()"
   ]
  },
  {
   "cell_type": "markdown",
   "id": "c6ea958e",
   "metadata": {},
   "source": [
    "### Анализ\n",
    "\n",
    "1. Краткий вывод:\n",
    "\n",
    "    На графике нет выраженной зависимости между возрастом и годовым доходом ни у мужчин, ни у женщин — обе регрессии почти горизонтальны и лежат близко друг к другу. При этом наблюдается несколько явных выбросов по доходу.\n",
    "\n",
    "1. Наблюдаемые паттерны:\n",
    "\n",
    "    * **Слабая/нулевая корреляция по возрасту.** Оба тренда (штриховые линии) имеют практически нулевой наклон: возраст мало объясняет вариацию дохода.\n",
    "\n",
    "    * **Большая дисперсия доходов в каждой возрастной точке.** Для одних и тех же возрастов доходы сильно варьируют (на графике — точки занимающие широкий вертикальный диапазон), что говорит о важности других факторов (образование, должность, отрасль и т.д.).\n",
    "\n",
    "    * **Выбросы.** Есть отдельные высокодоходные наблюдения (до ≈120–140 тыс. $), больше заметные у мужчин в 30–35 лет и у женщин в других возрастах — они влияют на регрессию и могут искажать выводы.\n",
    "\n",
    "    * **Сравнение полов.** Средние уровни дохода для мужчин и женщин примерно сопоставимы (регрессии проходят рядом друг с другом около 60 тыс. $), то есть гендерного разрыва по среднему доходу по возрасту на этом графике не видно."
   ]
  },
  {
   "cell_type": "markdown",
   "id": "e55fa196",
   "metadata": {},
   "source": [
    "## 3. Seaborn:"
   ]
  },
  {
   "cell_type": "markdown",
   "id": "ecaf6561",
   "metadata": {},
   "source": [
    "### Задание\n",
    "\n",
    "* Показать  связь  между  возрастом,  годовым \n",
    "доходом, и скорингом расходов с помощью Pairplot\n",
    "\n",
    "### Решение"
   ]
  },
  {
   "cell_type": "code",
   "execution_count": 10,
   "id": "b96db5c0",
   "metadata": {},
   "outputs": [
    {
     "data": {
      "text/plain": [
       "Text(0.5, 1.02, 'Pairplot: Age, Annual Income, Spending Score')"
      ]
     },
     "execution_count": 10,
     "metadata": {},
     "output_type": "execute_result"
    },
    {
     "data": {
      "image/png": "[encoded data removed]",
      "text/plain": [
       "<Figure size 750x750 with 12 Axes>"
      ]
     },
     "metadata": {},
     "output_type": "display_data"
    }
   ],
   "source": [
    "df_for_pairplot = df_raw_csv[['Age', 'Annual Income (k$)', 'Spending Score (1-100)']]\n",
    "plot = sbn.pairplot(df_for_pairplot)\n",
    "plot.figure.suptitle(\"Pairplot: Age, Annual Income, Spending Score\", y=1.02)"
   ]
  },
  {
   "cell_type": "markdown",
   "id": "53bfdb46",
   "metadata": {},
   "source": [
    "### Анализ\n",
    "\n",
    "#### Распределение отдельных признаков (диагональные гистограммы)\n",
    "\n",
    "* **Возраст (Age):**\n",
    "    \n",
    "    Распределение имеет пик в диапазоне 30–35 лет, что указывает на преобладание молодых и среднего возраста в выборке. Данные скошены влево: меньше людей старше 50 лет.\n",
    "    \n",
    "    *Вывод: Аудитория в основном состоит из людей трудоспособного возраста, что важно для сегментации по жизненным этапам.*\n",
    "\n",
    "* **Годовой доход (Annual Income, $k):**\n",
    "    \n",
    "    Распределение сильно скошено влево. Большинство людей имеют доход до 60k$, резкий спад наблюдается после этого значения. Небольшая доля клиентов с доходом свыше 100k$.\n",
    "    \n",
    "    *Вывод: Основная масса аудитории — средний класс. Высокодоходные клиенты (свыше 100k$) составляют незначительную часть.*\n",
    "\n",
    "* **Балл трат (Spending Score, 1–100):**\n",
    "    \n",
    "    Распределение близко к нормальному с пиком в районе 50 баллов. Меньше клиентов с экстремально низкими (0–20) или высокими (80–100) значениями.\n",
    "    \n",
    "    *Вывод: Большинство клиентов демонстрируют средний уровень трат, что может указывать на умеренные покупательские привычки.*\n",
    "\n",
    "\n",
    "#### Взаимосвязи между признаками (графики рассеяния)\n",
    "\n",
    "* **Возраст vs Годовой доход:**\n",
    "\n",
    "    Отсутствует явная корреляция. Точки равномерно распределены, что означает:\n",
    "    \n",
    "    - Молодые люди (20–30 лет) могут иметь как низкий, так и высокий доход.\n",
    "    - Старшие клиенты (50+) также представлены в разных доходных группах.\n",
    "    \n",
    "    *Вывод: Возраст не является определяющим фактором для дохода в этой выборке.*\n",
    "\n",
    "* **Возраст vs Балл трат:**\n",
    "\n",
    "    Наблюдается отрицательная тенденция:\n",
    "\n",
    "    - Клиенты моложе 30 лет чаще имеют высокий балл трат (60–90).\n",
    "    - В возрасте 30–50 лет баллы трат снижаются (20–60).\n",
    "    - У клиентов старше 50 баллы слабо растут, но остаются ниже уровня молодых.\n",
    "\n",
    "    *Вывод: Молодежь (до 30 лет) — ключевая целевая аудитория для маркетинга, так как они тратят больше.*\n",
    "\n",
    "* **Годовой доход vs Балл трат:**\n",
    "\n",
    "    Видны три основных кластера:\n",
    "    \n",
    "    1. Небольшой доход (20-40k$) с разбросанными тратами (как низкими, так и высокими)\n",
    "        - Нет линейной зависимости: например, клиенты с доходом 30k$ могут иметь и 20, и 80 баллов.\n",
    "\n",
    "    1. Средний доход (40–60k$) с средними тратами (40–60 баллов).\n",
    "\n",
    "    1. Высокий доход (60–140k$) с разбросанными тратами (как низкими, так и высокими).\n",
    "        - Так же как и первый кластер.\n",
    "        \n",
    "    *Вывод: Доход не напрямую влияет на уровень трат. Возможно, на них влияют другие факторы (например, семейное положение, жизненные цели и др.).*"
   ]
  }
 ],
 "metadata": {
  "kernelspec": {
   "display_name": ".venv",
   "language": "python",
   "name": "python3"
  },
  "language_info": {
   "codemirror_mode": {
    "name": "ipython",
    "version": 3
   },
   "file_extension": ".py",
   "mimetype": "text/x-python",
   "name": "python",
   "nbconvert_exporter": "python",
   "pygments_lexer": "ipython3",
   "version": "3.12.2"
  }
 },
 "nbformat": 4,
 "nbformat_minor": 5
}
